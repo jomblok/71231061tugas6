{
  "nbformat": 4,
  "nbformat_minor": 0,
  "metadata": {
    "colab": {
      "provenance": []
    },
    "kernelspec": {
      "name": "python3",
      "display_name": "Python 3"
    },
    "language_info": {
      "name": "python"
    }
  },
  "cells": [
    {
      "cell_type": "markdown",
      "source": [
        "SOAL 1"
      ],
      "metadata": {
        "id": "UMKXDT33jYK-"
      }
    },
    {
      "cell_type": "code",
      "source": [
        "def prima(n):\n",
        "    hasil = None\n",
        "    for i in range(n):\n",
        "        if i <= 1:\n",
        "            continue\n",
        "        elif i == 2:\n",
        "            hasil = i\n",
        "        else:\n",
        "            penentu = True\n",
        "            for j in range(2, i):\n",
        "                if i%j == 0:\n",
        "                    penentu = False\n",
        "                else:\n",
        "                    continue\n",
        "            if penentu == True:\n",
        "                hasil = i\n",
        "\n",
        "    print(hasil)\n",
        "\n",
        "prima(10)"
      ],
      "metadata": {
        "colab": {
          "base_uri": "https://localhost:8080/"
        },
        "id": "LBj0-EOdjc0T",
        "outputId": "47fa9e0f-cede-4025-8dda-336acab23364"
      },
      "execution_count": 1,
      "outputs": [
        {
          "output_type": "stream",
          "name": "stdout",
          "text": [
            "7\n"
          ]
        }
      ]
    },
    {
      "cell_type": "markdown",
      "source": [
        "SOAL 2"
      ],
      "metadata": {
        "id": "FjRy2fd1jics"
      }
    },
    {
      "cell_type": "code",
      "source": [
        "def faktor(n):\n",
        "    for i in range(n):\n",
        "        hasil = 1\n",
        "        for j in range(n-i , 0 , -1):\n",
        "            hasil *= j\n",
        "        print(hasil , end=' ')\n",
        "        for k in range(n-i, j - 1, -1):\n",
        "            print(k, end=' ')\n",
        "        print()\n",
        "\n",
        "faktor(6)"
      ],
      "metadata": {
        "colab": {
          "base_uri": "https://localhost:8080/"
        },
        "id": "1rbsvEXjjjWN",
        "outputId": "9809c625-aac8-4278-e3d1-041b3ff7ffa5"
      },
      "execution_count": 2,
      "outputs": [
        {
          "output_type": "stream",
          "name": "stdout",
          "text": [
            "720 6 5 4 3 2 1 \n",
            "120 5 4 3 2 1 \n",
            "24 4 3 2 1 \n",
            "6 3 2 1 \n",
            "2 2 1 \n",
            "1 1 \n"
          ]
        }
      ]
    },
    {
      "cell_type": "markdown",
      "source": [
        "SOAL 3"
      ],
      "metadata": {
        "id": "gsk01NDOjndt"
      }
    },
    {
      "cell_type": "code",
      "source": [
        "def deret(tinggi, lebar):\n",
        "    start = 1\n",
        "    for i in range(tinggi):\n",
        "        for j in range(lebar):\n",
        "            print(start, end=\" \")\n",
        "            start += 1\n",
        "        print()\n",
        "\n",
        "\n",
        "deret(5,7)"
      ],
      "metadata": {
        "id": "9NsVIOqSjo8d",
        "outputId": "31e89d24-fb15-4850-dbfd-9c0c938522d9",
        "colab": {
          "base_uri": "https://localhost:8080/"
        }
      },
      "execution_count": 3,
      "outputs": [
        {
          "output_type": "stream",
          "name": "stdout",
          "text": [
            "1 2 3 4 5 6 7 \n",
            "8 9 10 11 12 13 14 \n",
            "15 16 17 18 19 20 21 \n",
            "22 23 24 25 26 27 28 \n",
            "29 30 31 32 33 34 35 \n"
          ]
        }
      ]
    }
  ]
}